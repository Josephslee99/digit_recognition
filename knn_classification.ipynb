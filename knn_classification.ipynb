{
 "cells": [
  {
   "cell_type": "markdown",
   "metadata": {},
   "source": [
    "# **Recognizing Digits with k-NN**\n",
    "#### Seungmin Lee \n",
    "---"
   ]
  },
  {
   "cell_type": "markdown",
   "metadata": {},
   "source": [
    "## Introduction:\n",
    "---\n",
    "For this project we will be exploring the k-NN function, the k-Nearest Neighbors.\n",
    "\n",
    "We will be implementing a form of supervised machine learning. Supervised machine learning is basically a concept of where we provide the data as a template for the algorithm to learn and base the output off of. In other words, we feed the algorithm the correct inputs along with the desired output and the algorithms job is to learn the patterns and try to implement the method itself.\n",
    "\n",
    "The k-NN algorithm is essentially a supervised machine learning algorithm as we will be providing the data to start off as a basis of how we want our function to operate. In our case, we will be implementing it to recognize handwritten digits from 0 to 9.\n",
    "\n",
    "For the training data and labels, we will be extracting data from the [MNIST database](http://yann.lecun.com/exdb/mnist/) consisting of a collection of 60,000 images.\n",
    "\n",
    "*Example:*\n",
    "<img src = \"https://www.mth548.org/_images/digits.png\" width = 800 height = 500>\n",
    "\n",
    "For our k-NN function we want it to take in the following parameters:\n",
    "- `training_data`: A 2-dimensional numpy array where each row consists of an element of the training data.\n",
    "- `training_labels`: A 1-dimensional numpy array including the labels corresponding to the training data. The label in the $k$-th element will be the corresponding label for the $k$-th row of the `training_data`.\n",
    "- `x`: A 1-dimensional numpy array consisting of the data point we wish to classify. In other words, it will be an image that will be later classified with a predicted label.\n",
    "- `n`: An integer signifying the number of neighbors we wish to use for the classification. The value of `n` could potentially affect how accurate the classification is for `x`.\n",
    "\n",
    "The `knn()` function will return a tuple `(label, neighbors)`, where\n",
    "- `label` is the predicted label of `x`\n",
    "- `neighbors` is a list of row numbers from `training_data` that was used for the classification. The volume of `neighbors` will be dependent on the input data of `n`."
   ]
  },
  {
   "cell_type": "markdown",
   "metadata": {},
   "source": [
    "## Project:\n",
    "---"
   ]
  },
  {
   "cell_type": "markdown",
   "metadata": {},
   "source": [
    "### `gzip`"
   ]
  },
  {
   "cell_type": "markdown",
   "metadata": {},
   "source": [
    "Before we begin with constructing our `knn()` function, we need to first extract the information within the files pulled from the MNIST database. For this purpose, we will be importing the `gzip` library to properly read and extract the files."
   ]
  },
  {
   "cell_type": "code",
   "execution_count": 2,
   "metadata": {
    "scrolled": true
   },
   "outputs": [
    {
     "data": {
      "text/plain": [
       "array([[0, 0, 0, ..., 0, 0, 0],\n",
       "       [0, 0, 0, ..., 0, 0, 0]])"
      ]
     },
     "execution_count": 2,
     "metadata": {},
     "output_type": "execute_result"
    }
   ],
   "source": [
    "import gzip\n",
    "\n",
    "with gzip.open(\"train-images-idx3-ubyte.gz\", \"rb\") as foo: \n",
    "    f_img = foo.read()\n",
    "    \n",
    "with gzip.open(\"train-labels-idx1-ubyte.gz\", \"rb\") as foo:\n",
    "    f_lab = foo.read()\n",
    "    \n",
    "import numpy as np\n",
    "images = np.array([b for b in f_img[16:]]).reshape(-1,28*28)\n",
    "labels = np.array([b for b in f_lab[8:]])\n",
    "images[:2]"
   ]
  },
  {
   "cell_type": "markdown",
   "metadata": {},
   "source": [
    "```\n",
    "images = np.array([b for b in f_img[16:]]).reshape(-1,28*28)\n",
    "labels = np.array([b for b in f_lab[8:]])\n",
    "```\n",
    "In the MNIST site, it explained that the first 16 rows of the training images consists of a magic number along with other forms of data that will not be used for the classification process. Thus, when assigning our variable `images`, we cut out the first 16 rows of the numpy array of images.\n",
    "\n",
    "The same was done for the first 8 rows for the training labels, `labels`."
   ]
  },
  {
   "cell_type": "code",
   "execution_count": 5,
   "metadata": {},
   "outputs": [
    {
     "data": {
      "text/plain": [
       "array([5, 0, 4, ..., 5, 6, 8])"
      ]
     },
     "execution_count": 5,
     "metadata": {},
     "output_type": "execute_result"
    }
   ],
   "source": [
    "labels"
   ]
  },
  {
   "cell_type": "markdown",
   "metadata": {},
   "source": [
    "When calling `labels`, we see that we extracted the right information out from the file as all the elements of `labels` are the labels corresponding to the elements of the rows for `training_data`."
   ]
  },
  {
   "cell_type": "markdown",
   "metadata": {},
   "source": [
    "### Visualizing Image Arrays"
   ]
  },
  {
   "cell_type": "markdown",
   "metadata": {},
   "source": [
    "To visually show what each row from `training_data` represent we will reshape the array into a 28x28 matrix."
   ]
  },
  {
   "cell_type": "code",
   "execution_count": 25,
   "metadata": {},
   "outputs": [
    {
     "name": "stdout",
     "output_type": "stream",
     "text": [
      "  0   0   0   0   0   0   0   0   0   0   0   0   0   0   0   0   0   0   0   0   0   0   0   0   0   0   0   0 \n",
      "  0   0   0   0   0   0   0   0   0   0   0   0   0   0   0   0   0   0   0   0   0   0   0   0   0   0   0   0 \n",
      "  0   0   0   0   0   0   0   0   0   0   0   0   0   0   0   0   0  25 214 225  90   0   0   0   0   0   0   0 \n",
      "  0   0   0   0   0   0   0   0   0   0   0   0   0   0   0   7 145 212 253 253  60   0   0   0   0   0   0   0 \n",
      "  0   0   0   0   0   0   0   0   0   0   0   0   0   0   0 106 253 253 246 188  23   0   0   0   0   0   0   0 \n",
      "  0   0   0   0   0   0   0   0   0   0   0   0   0  45 164 254 253 223 108   0   0   0   0   0   0   0   0   0 \n",
      "  0   0   0   0   0   0   0   0   0   0   0   0  24 236 253 252 124  28   0   0   0   0   0   0   0   0   0   0 \n",
      "  0   0   0   0   0   0   0   0   0   0   0 100 217 253 218 116   0   0   0   0   0   0   0   0   0   0   0   0 \n",
      "  0   0   0   0   0   0   0   0   0   0 158 175 225 253  92   0   0   0   0   0   0   0   0   0   0   0   0   0 \n",
      "  0   0   0   0   0   0   0   0   0  24 217 241 248 114   2   0   0   0   0   0   0   0   0   0   0   0   0   0 \n",
      "  0   0   0   0   0   0   0   0  21 201 253 253 114   3   0   0   0   0   0   0   0   0   0   0   0   0   0   0 \n",
      "  0   0   0   0   0   0   0   0 107 253 253 213  19   0   0   0   0   0   0   0   0   0   0   0   0   0   0   0 \n",
      "  0   0   0   0   0   0   0   0 170 254 254 169   0   0   0   0   0   2  13 100 133  89   0   0   0   0   0   0 \n",
      "  0   0   0   0   0   0   0  18 210 253 253 100   0   0   0  19  76 116 253 253 253 176   4   0   0   0   0   0 \n",
      "  0   0   0   0   0   0   0  41 222 253 208  18   0   0  93 209 232 217 224 253 253 241  31   0   0   0   0   0 \n",
      "  0   0   0   0   0   0   0 157 253 253 229  32   0 154 250 246  36   0  49 253 253 168   0   0   0   0   0   0 \n",
      "  0   0   0   0   0   0   0 128 253 253 253 195 125 247 166  69   0   0  37 236 253 168   0   0   0   0   0   0 \n",
      "  0   0   0   0   0   0   0  37 253 253 253 253 253 135  32   0   7 130  73 202 253 133   0   0   0   0   0   0 \n",
      "  0   0   0   0   0   0   0   7 185 253 253 253 253  64   0  10 210 253 253 253 153   9   0   0   0   0   0   0 \n",
      "  0   0   0   0   0   0   0   0  66 253 253 253 253 238 218 221 253 253 235 156  37   0   0   0   0   0   0   0 \n",
      "  0   0   0   0   0   0   0   0   5 111 228 253 253 253 253 254 253 168  19   0   0   0   0   0   0   0   0   0 \n",
      "  0   0   0   0   0   0   0   0   0   0   9 110 178 253 253 249  63   5   0   0   0   0   0   0   0   0   0   0 \n",
      "  0   0   0   0   0   0   0   0   0   0   0   0   0   0   0   0   0   0   0   0   0   0   0   0   0   0   0   0 \n",
      "  0   0   0   0   0   0   0   0   0   0   0   0   0   0   0   0   0   0   0   0   0   0   0   0   0   0   0   0 \n",
      "  0   0   0   0   0   0   0   0   0   0   0   0   0   0   0   0   0   0   0   0   0   0   0   0   0   0   0   0 \n",
      "  0   0   0   0   0   0   0   0   0   0   0   0   0   0   0   0   0   0   0   0   0   0   0   0   0   0   0   0 \n",
      "  0   0   0   0   0   0   0   0   0   0   0   0   0   0   0   0   0   0   0   0   0   0   0   0   0   0   0   0 \n",
      "  0   0   0   0   0   0   0   0   0   0   0   0   0   0   0   0   0   0   0   0   0   0   0   0   0   0   0   0 \n"
     ]
    }
   ],
   "source": [
    "img = images[90].reshape(28,28)\n",
    "for i in range(28):\n",
    "    for j in range(28):\n",
    "        print(f\"{img[i, j]:3}\", end =\" \")\n",
    "    print()"
   ]
  },
  {
   "cell_type": "markdown",
   "metadata": {},
   "source": [
    "Printing the image at element 90 shows us the general shape of the image, with the values of each point representing the color ranging from 0 to 255.\n",
    "\n",
    "We can go beyond that by plotting it through the `matplotlit.pyplot` library."
   ]
  },
  {
   "cell_type": "code",
   "execution_count": 26,
   "metadata": {},
   "outputs": [
    {
     "data": {
      "text/plain": [
       "<matplotlib.image.AxesImage at 0x1e4dcfadd60>"
      ]
     },
     "execution_count": 26,
     "metadata": {},
     "output_type": "execute_result"
    },
    {
     "data": {
      "image/png": "[encoded data removed]",
      "text/plain": [
       "<Figure size 360x360 with 1 Axes>"
      ]
     },
     "metadata": {
      "needs_background": "light"
     },
     "output_type": "display_data"
    }
   ],
   "source": [
    "import matplotlib.pyplot as plt\n",
    "plt.figure(figsize=(5,5))\n",
    "plt.xticks([])\n",
    "plt.imshow(img, cmap=\"gray_r\")"
   ]
  },
  {
   "cell_type": "code",
   "execution_count": 7,
   "metadata": {
    "scrolled": true
   },
   "outputs": [
    {
     "data": {
      "text/plain": [
       "6"
      ]
     },
     "execution_count": 7,
     "metadata": {},
     "output_type": "execute_result"
    }
   ],
   "source": [
    "lab = labels[90]\n",
    "lab"
   ]
  },
  {
   "cell_type": "markdown",
   "metadata": {},
   "source": [
    "### Euclidean Distance"
   ]
  },
  {
   "cell_type": "markdown",
   "metadata": {},
   "source": [
    "As you can see, the image shows to be the number \"6\". When verifying by checking the label of element 90, it's properly classified as the number \"6\"."
   ]
  },
  {
   "cell_type": "markdown",
   "metadata": {},
   "source": [
    "For constructing the `knn()` function, we will determine the closest neighbor by using the Euclidean Distance formula.\n",
    "$$d(p,q) = \\sqrt{\\sum_{i=1}^{n} (q_i - p_i)^2}$$"
   ]
  },
  {
   "cell_type": "code",
   "execution_count": 3,
   "metadata": {},
   "outputs": [],
   "source": [
    "import math\n",
    "def ED(input_data, training_data):\n",
    "    distance = 0\n",
    "    for i in range(0,len(input_data)):\n",
    "        distance += pow(input_data[i] - training_data[i], 2)\n",
    "    return math.sqrt(distance)"
   ]
  },
  {
   "cell_type": "markdown",
   "metadata": {},
   "source": [
    "To verify whether or not the euclidean distance function, `ED()`, is functioning properly we will test it with some points."
   ]
  },
  {
   "cell_type": "code",
   "execution_count": 12,
   "metadata": {},
   "outputs": [
    {
     "data": {
      "text/plain": [
       "5.0"
      ]
     },
     "execution_count": 12,
     "metadata": {},
     "output_type": "execute_result"
    }
   ],
   "source": [
    "point1 = [1,1,1,5]\n",
    "point2 = [1,4,1,1]\n",
    "ED(point1,point2)"
   ]
  },
  {
   "cell_type": "code",
   "execution_count": 13,
   "metadata": {},
   "outputs": [
    {
     "data": {
      "text/plain": [
       "6.4031242374328485"
      ]
     },
     "execution_count": 13,
     "metadata": {},
     "output_type": "execute_result"
    }
   ],
   "source": [
    "point1 = [2,1,1,5]\n",
    "point2 = [6,4,1,1]\n",
    "ED(point1,point2)"
   ]
  },
  {
   "cell_type": "markdown",
   "metadata": {},
   "source": [
    "From this, we know that our function `ED` is working as intended."
   ]
  },
  {
   "cell_type": "code",
   "execution_count": 76,
   "metadata": {},
   "outputs": [],
   "source": [
    "# For testing later\n",
    "x = images[90] # 6"
   ]
  },
  {
   "cell_type": "markdown",
   "metadata": {},
   "source": [
    "For the input variables for our function, `knn()`, we will be using half of the images and labels as the training data/labels with the other half to be used for testing as the inputs for `x`."
   ]
  },
  {
   "cell_type": "code",
   "execution_count": 4,
   "metadata": {},
   "outputs": [
    {
     "data": {
      "text/plain": [
       "30000"
      ]
     },
     "execution_count": 4,
     "metadata": {},
     "output_type": "execute_result"
    }
   ],
   "source": [
    "training_data = images[:len(images)//2]\n",
    "training_labels = labels[:len(labels)//2]\n",
    "predicting_data = images[len(images)//2:]\n",
    "predicting_labels = labels[len(labels)//2:]\n",
    "len(training_data)"
   ]
  },
  {
   "cell_type": "markdown",
   "metadata": {},
   "source": [
    "### `knn()` function"
   ]
  },
  {
   "cell_type": "code",
   "execution_count": 5,
   "metadata": {},
   "outputs": [],
   "source": [
    "def knn(training_data, training_labels, x, n):\n",
    "    closest_neighbors = [] # Empty list that will be updated with tuples, (Euclidean Distance, Row Element of Image)\n",
    "    for index, i in enumerate(range(0,len(training_data))):\n",
    "        distance = ED(x,training_data[i])\n",
    "        closest_neighbors.append([distance,index])\n",
    "    closest_neighbors = sorted(closest_neighbors) # The list will be sorted from least to greatest according to distance\n",
    "    neighbors = [i[1] for i in closest_neighbors[:n]] # New list containing the row elements that were previously sorted\n",
    "    labels = [training_labels[i] for i in neighbors] # New list containing the corresponding labels that were sorted\n",
    "    predicted_label = max(labels, key = labels.count) # Predicting most likely outcome by calculating mode\n",
    "    return (predicted_label, neighbors)"
   ]
  },
  {
   "cell_type": "markdown",
   "metadata": {},
   "source": [
    "For this version of the `knn()` function, the result could be potentially altered by the value of `n`. That said, everything is situational. There are various factors that could potentially alter or manipulate the outsome such as the information that's put into the function. However, for the purpose of recognizing handwritten digits, we will now test to verify whether the function works as intended."
   ]
  },
  {
   "cell_type": "code",
   "execution_count": 7,
   "metadata": {},
   "outputs": [
    {
     "data": {
      "text/plain": [
       "4"
      ]
     },
     "execution_count": 7,
     "metadata": {},
     "output_type": "execute_result"
    }
   ],
   "source": [
    "predicting_labels[5] # First test input for \"x\""
   ]
  },
  {
   "cell_type": "code",
   "execution_count": 109,
   "metadata": {},
   "outputs": [
    {
     "data": {
      "text/plain": [
       "(4, [3503, 19055, 3547, 10175])"
      ]
     },
     "execution_count": 109,
     "metadata": {},
     "output_type": "execute_result"
    }
   ],
   "source": [
    "knn(training_data, training_labels, predicting_data[5], 4)"
   ]
  },
  {
   "cell_type": "markdown",
   "metadata": {},
   "source": [
    "The function returned the proper label for the first test case where `x` was an array assigned to the label 4. The output `neighbors` consist of row numbers 3503, 19055, 3547, and 10175. To verify that the algorithm is capable of accurately determining the correct label for `x`, we will check the labels of `neighbors`."
   ]
  },
  {
   "cell_type": "code",
   "execution_count": 20,
   "metadata": {},
   "outputs": [
    {
     "data": {
      "text/plain": [
       "4"
      ]
     },
     "execution_count": 20,
     "metadata": {},
     "output_type": "execute_result"
    }
   ],
   "source": [
    "training_labels[3503]"
   ]
  },
  {
   "cell_type": "code",
   "execution_count": 21,
   "metadata": {},
   "outputs": [
    {
     "data": {
      "text/plain": [
       "4"
      ]
     },
     "execution_count": 21,
     "metadata": {},
     "output_type": "execute_result"
    }
   ],
   "source": [
    "training_labels[19055]"
   ]
  },
  {
   "cell_type": "code",
   "execution_count": 22,
   "metadata": {},
   "outputs": [
    {
     "data": {
      "text/plain": [
       "4"
      ]
     },
     "execution_count": 22,
     "metadata": {},
     "output_type": "execute_result"
    }
   ],
   "source": [
    "training_labels[3547]"
   ]
  },
  {
   "cell_type": "code",
   "execution_count": 23,
   "metadata": {},
   "outputs": [
    {
     "data": {
      "text/plain": [
       "4"
      ]
     },
     "execution_count": 23,
     "metadata": {},
     "output_type": "execute_result"
    }
   ],
   "source": [
    "training_labels[10175]"
   ]
  },
  {
   "cell_type": "markdown",
   "metadata": {},
   "source": [
    "From this, we can determine that the function properly predicts the closest neighbors and is thus capable of properly predicting the label of `x`."
   ]
  },
  {
   "cell_type": "markdown",
   "metadata": {},
   "source": [
    "### Other test cases"
   ]
  },
  {
   "cell_type": "markdown",
   "metadata": {},
   "source": [
    "***Number 2***"
   ]
  },
  {
   "cell_type": "code",
   "execution_count": 44,
   "metadata": {},
   "outputs": [
    {
     "data": {
      "text/plain": [
       "<matplotlib.image.AxesImage at 0x1e4dcfadf40>"
      ]
     },
     "execution_count": 44,
     "metadata": {},
     "output_type": "execute_result"
    },
    {
     "data": {
      "image/png": "[encoded data removed]",
      "text/plain": [
       "<Figure size 360x360 with 1 Axes>"
      ]
     },
     "metadata": {
      "needs_background": "light"
     },
     "output_type": "display_data"
    }
   ],
   "source": [
    "two = predicting_data[55].reshape(28,28)\n",
    "predict_two = predicting_data[55]\n",
    "plt.figure(figsize=(5,5))\n",
    "plt.xticks([])\n",
    "plt.imshow(two, cmap=\"gray_r\")"
   ]
  },
  {
   "cell_type": "code",
   "execution_count": 45,
   "metadata": {},
   "outputs": [
    {
     "data": {
      "text/plain": [
       "(2, [233, 8591, 375, 339])"
      ]
     },
     "execution_count": 45,
     "metadata": {},
     "output_type": "execute_result"
    }
   ],
   "source": [
    "knn(training_data, training_labels, predict_two, 4)"
   ]
  },
  {
   "cell_type": "code",
   "execution_count": 50,
   "metadata": {},
   "outputs": [
    {
     "data": {
      "text/plain": [
       "2"
      ]
     },
     "execution_count": 50,
     "metadata": {},
     "output_type": "execute_result"
    }
   ],
   "source": [
    "training_labels[233]"
   ]
  },
  {
   "cell_type": "code",
   "execution_count": 51,
   "metadata": {},
   "outputs": [
    {
     "data": {
      "text/plain": [
       "2"
      ]
     },
     "execution_count": 51,
     "metadata": {},
     "output_type": "execute_result"
    }
   ],
   "source": [
    "training_labels[8591]"
   ]
  },
  {
   "cell_type": "code",
   "execution_count": 52,
   "metadata": {},
   "outputs": [
    {
     "data": {
      "text/plain": [
       "2"
      ]
     },
     "execution_count": 52,
     "metadata": {},
     "output_type": "execute_result"
    }
   ],
   "source": [
    "training_labels[375]"
   ]
  },
  {
   "cell_type": "code",
   "execution_count": 53,
   "metadata": {},
   "outputs": [
    {
     "data": {
      "text/plain": [
       "2"
      ]
     },
     "execution_count": 53,
     "metadata": {},
     "output_type": "execute_result"
    }
   ],
   "source": [
    "training_labels[339]"
   ]
  },
  {
   "cell_type": "markdown",
   "metadata": {},
   "source": [
    "***Number 9***"
   ]
  },
  {
   "cell_type": "code",
   "execution_count": 54,
   "metadata": {},
   "outputs": [
    {
     "data": {
      "text/plain": [
       "<matplotlib.image.AxesImage at 0x1e48c6ef730>"
      ]
     },
     "execution_count": 54,
     "metadata": {},
     "output_type": "execute_result"
    },
    {
     "data": {
      "image/png": "[encoded data removed]",
      "text/plain": [
       "<Figure size 360x360 with 1 Axes>"
      ]
     },
     "metadata": {
      "needs_background": "light"
     },
     "output_type": "display_data"
    }
   ],
   "source": [
    "nine = predicting_data[3625].reshape(28,28)\n",
    "predict_nine = predicting_data[3625]\n",
    "plt.figure(figsize=(5,5))\n",
    "plt.xticks([])\n",
    "plt.imshow(nine, cmap=\"gray_r\")"
   ]
  },
  {
   "cell_type": "code",
   "execution_count": 55,
   "metadata": {},
   "outputs": [
    {
     "data": {
      "text/plain": [
       "(9, [6779, 6439, 27679, 6599])"
      ]
     },
     "execution_count": 55,
     "metadata": {},
     "output_type": "execute_result"
    }
   ],
   "source": [
    "knn(training_data, training_labels, predict_nine, 4)"
   ]
  },
  {
   "cell_type": "code",
   "execution_count": 56,
   "metadata": {},
   "outputs": [
    {
     "data": {
      "text/plain": [
       "9"
      ]
     },
     "execution_count": 56,
     "metadata": {},
     "output_type": "execute_result"
    }
   ],
   "source": [
    "training_labels[6779]"
   ]
  },
  {
   "cell_type": "code",
   "execution_count": 57,
   "metadata": {},
   "outputs": [
    {
     "data": {
      "text/plain": [
       "9"
      ]
     },
     "execution_count": 57,
     "metadata": {},
     "output_type": "execute_result"
    }
   ],
   "source": [
    "training_labels[6439]"
   ]
  },
  {
   "cell_type": "code",
   "execution_count": 58,
   "metadata": {},
   "outputs": [
    {
     "data": {
      "text/plain": [
       "9"
      ]
     },
     "execution_count": 58,
     "metadata": {},
     "output_type": "execute_result"
    }
   ],
   "source": [
    "training_labels[27679]"
   ]
  },
  {
   "cell_type": "code",
   "execution_count": 59,
   "metadata": {},
   "outputs": [
    {
     "data": {
      "text/plain": [
       "9"
      ]
     },
     "execution_count": 59,
     "metadata": {},
     "output_type": "execute_result"
    }
   ],
   "source": [
    "training_labels[6599]"
   ]
  },
  {
   "cell_type": "markdown",
   "metadata": {},
   "source": [
    "***Number 7***"
   ]
  },
  {
   "cell_type": "code",
   "execution_count": 47,
   "metadata": {},
   "outputs": [
    {
     "data": {
      "text/plain": [
       "<matplotlib.image.AxesImage at 0x1e48c7059a0>"
      ]
     },
     "execution_count": 47,
     "metadata": {},
     "output_type": "execute_result"
    },
    {
     "data": {
      "image/png": "[encoded data removed]",
      "text/plain": [
       "<Figure size 360x360 with 1 Axes>"
      ]
     },
     "metadata": {
      "needs_background": "light"
     },
     "output_type": "display_data"
    }
   ],
   "source": [
    "seven = predicting_data[5225].reshape(28,28)\n",
    "predict_seven = predicting_data[5225]\n",
    "plt.figure(figsize=(5,5))\n",
    "plt.xticks([])\n",
    "plt.imshow(seven, cmap=\"gray_r\")"
   ]
  },
  {
   "cell_type": "code",
   "execution_count": 48,
   "metadata": {},
   "outputs": [
    {
     "data": {
      "text/plain": [
       "(7, [4303, 27709, 101, 16143])"
      ]
     },
     "execution_count": 48,
     "metadata": {},
     "output_type": "execute_result"
    }
   ],
   "source": [
    "knn(training_data, training_labels, predict_seven, 4)"
   ]
  },
  {
   "cell_type": "code",
   "execution_count": 60,
   "metadata": {},
   "outputs": [
    {
     "data": {
      "text/plain": [
       "7"
      ]
     },
     "execution_count": 60,
     "metadata": {},
     "output_type": "execute_result"
    }
   ],
   "source": [
    "training_labels[4303]"
   ]
  },
  {
   "cell_type": "code",
   "execution_count": 61,
   "metadata": {},
   "outputs": [
    {
     "data": {
      "text/plain": [
       "7"
      ]
     },
     "execution_count": 61,
     "metadata": {},
     "output_type": "execute_result"
    }
   ],
   "source": [
    "training_labels[27709]"
   ]
  },
  {
   "cell_type": "code",
   "execution_count": 62,
   "metadata": {},
   "outputs": [
    {
     "data": {
      "text/plain": [
       "7"
      ]
     },
     "execution_count": 62,
     "metadata": {},
     "output_type": "execute_result"
    }
   ],
   "source": [
    "training_labels[101]"
   ]
  },
  {
   "cell_type": "code",
   "execution_count": 63,
   "metadata": {},
   "outputs": [
    {
     "data": {
      "text/plain": [
       "7"
      ]
     },
     "execution_count": 63,
     "metadata": {},
     "output_type": "execute_result"
    }
   ],
   "source": [
    "training_labels[16143]"
   ]
  },
  {
   "cell_type": "markdown",
   "metadata": {},
   "source": [
    "## Conclusion:\n",
    "---"
   ]
  },
  {
   "cell_type": "markdown",
   "metadata": {},
   "source": [
    "To conclude, the `knn()` function is a supervised machine learning algorithm that learns from the training data thats fed into the algorithm. The k-Nearest Neighbors algorithm regards anything that's closest in proximity to be related, thus the use of the Euclidean Distance formula. This algorithm is optimal for our purpose as our intent is to implement it into recognizing handwritten digits ranging from 0 to 9.\n",
    "\n",
    "During the testing, the k-NN algorithm was consistly able to return the correct predicted label of `x`, our 1-dimensional array representing an image of a handwritten digit. Using the other half of the training data, arrays correlating to label 2, 9, and 7 were accurately predicted, with the 4 closest neighbors also representing the corresponding label. \n",
    "\n",
    "The `knn()` function could also be used to train a machine to recognize other forms of data as long as it specifically meets the needs. The use of k-NN is broad but also limited as it's purpose is to correlate data based on proximity. The closer the inputted data, `x`, is to the template, `training_data`, the more likely it is to be determined as the same."
   ]
  }
 ],
 "metadata": {
  "kernelspec": {
   "display_name": "Python 3 (ipykernel)",
   "language": "python",
   "name": "python3"
  },
  "language_info": {
   "codemirror_mode": {
    "name": "ipython",
    "version": 3
   },
   "file_extension": ".py",
   "mimetype": "text/x-python",
   "name": "python",
   "nbconvert_exporter": "python",
   "pygments_lexer": "ipython3",
   "version": "3.9.7"
  }
 },
 "nbformat": 4,
 "nbformat_minor": 4
}
